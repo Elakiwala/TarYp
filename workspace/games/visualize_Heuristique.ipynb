{
 "cells": [
  {
   "cell_type": "markdown",
   "metadata": {},
   "source": [
    "<h1 style=\"background-color: gray;\n",
    "           color: black;\n",
    "           padding: 20px;\n",
    "           text-align: center;\">INFO</h1>\n",
    "\n",
    "In this script, we run player `Dijkstra` in a maze, to visualize its behavior."
   ]
  },
  {
   "cell_type": "markdown",
   "metadata": {},
   "source": [
    "<h1 style=\"background-color: gray;\n",
    "           color: black;\n",
    "           padding: 20px;\n",
    "           text-align: center;\">IMPORTS</h1>"
   ]
  },
  {
   "cell_type": "code",
   "execution_count": 1,
   "metadata": {},
   "outputs": [],
   "source": [
    "import sys\n",
    "import os\n",
    "import pprint\n",
    "\n",
    "sys.path.append(os.path.join(\"..\", \"players\"))\n",
    "\n",
    "from pyrat import Game, GameMode\n",
    "from MaxDensity import Heuristique"
   ]
  },
  {
   "cell_type": "markdown",
   "metadata": {},
   "source": []
  },
  {
   "cell_type": "markdown",
   "metadata": {},
   "source": [
    "<h1 style=\"background-color: gray;\n",
    "           color: black;\n",
    "           padding: 20px;\n",
    "           text-align: center;\">CONSTANTS</h1>\n",
    "\n",
    "Let's configure the game with a dictionary."
   ]
  },
  {
   "cell_type": "code",
   "execution_count": 2,
   "metadata": {},
   "outputs": [
    {
     "ename": "AttributeError",
     "evalue": "type object 'GameMode' has no attribute 'SEQUENIAL'",
     "output_type": "error",
     "traceback": [
      "\u001b[0;31m---------------------------------------------------------------------------\u001b[0m",
      "\u001b[0;31mAttributeError\u001b[0m                            Traceback (most recent call last)",
      "Cell \u001b[0;32mIn[2], line 6\u001b[0m\n\u001b[1;32m      1\u001b[0m \u001b[38;5;66;03m# Customize the game elements\u001b[39;00m\n\u001b[1;32m      2\u001b[0m CONFIG \u001b[38;5;241m=\u001b[39m {\u001b[38;5;124m\"\u001b[39m\u001b[38;5;124mmud_percentage\u001b[39m\u001b[38;5;124m\"\u001b[39m: \u001b[38;5;241m25\u001b[39m,\n\u001b[1;32m      3\u001b[0m           \u001b[38;5;124m\"\u001b[39m\u001b[38;5;124mnb_cheese\u001b[39m\u001b[38;5;124m\"\u001b[39m: \u001b[38;5;241m5\u001b[39m,\n\u001b[1;32m      4\u001b[0m           \u001b[38;5;124m\"\u001b[39m\u001b[38;5;124mrandom_seed\u001b[39m\u001b[38;5;124m\"\u001b[39m: \u001b[38;5;241m42\u001b[39m,\n\u001b[1;32m      5\u001b[0m           \u001b[38;5;124m\"\u001b[39m\u001b[38;5;124mtrace_length\u001b[39m\u001b[38;5;124m\"\u001b[39m: \u001b[38;5;241m1000\u001b[39m,\n\u001b[0;32m----> 6\u001b[0m           \u001b[38;5;124m\"\u001b[39m\u001b[38;5;124mgame_mode\u001b[39m\u001b[38;5;124m\"\u001b[39m: \u001b[43mGameMode\u001b[49m\u001b[38;5;241;43m.\u001b[39;49m\u001b[43mSEQUENIAL\u001b[49m}\n",
      "\u001b[0;31mAttributeError\u001b[0m: type object 'GameMode' has no attribute 'SEQUENIAL'"
     ]
    }
   ],
   "source": [
    "# Customize the game elements\n",
    "CONFIG = {\"mud_percentage\": 25,\n",
    "          \"nb_cheese\": 5,\n",
    "          \"random_seed\": 42,\n",
    "          \"trace_length\": 1000,\n",
    "          \"game_mode\": GameMode.SEQUENTIAL}"
   ]
  },
  {
   "cell_type": "markdown",
   "metadata": {},
   "source": [
    "We perform a single game with the configuration defined above."
   ]
  },
  {
   "cell_type": "code",
   "execution_count": 3,
   "metadata": {},
   "outputs": [
    {
     "name": "stdout",
     "output_type": "stream",
     "text": [
      "exhaustive\n",
      "add_player\n",
      "start\n"
     ]
    },
    {
     "name": "stderr",
     "output_type": "stream",
     "text": [
      "Player Heuristique has crashed with the following error:\n",
      "Traceback (most recent call last):\n",
      "  File \"/home/lotsalan/.local/lib/python3.12/site-packages/pyrat/src/Game.py\", line 898, in _player_process_function\n",
      "    player.preprocessing(maze, game_state)\n",
      "  File \"/home/lotsalan/Documents/GitHub/workspace/TarYp/workspace/games/../players/MaxDensity.py\", line 74, in preprocessing\n",
      "    kmeans.fit(cheese_positions)\n",
      "  File \"/home/lotsalan/.local/lib/python3.12/site-packages/sklearn/base.py\", line 1389, in wrapper\n",
      "    return fit_method(estimator, *args, **kwargs)\n",
      "           ^^^^^^^^^^^^^^^^^^^^^^^^^^^^^^^^^^^^^^\n",
      "  File \"/home/lotsalan/.local/lib/python3.12/site-packages/sklearn/cluster/_kmeans.py\", line 1446, in fit\n",
      "    X = validate_data(\n",
      "        ^^^^^^^^^^^^^^\n",
      "  File \"/home/lotsalan/.local/lib/python3.12/site-packages/sklearn/utils/validation.py\", line 2944, in validate_data\n",
      "    out = check_array(X, input_name=\"X\", **check_params)\n",
      "          ^^^^^^^^^^^^^^^^^^^^^^^^^^^^^^^^^^^^^^^^^^^^^^\n",
      "  File \"/home/lotsalan/.local/lib/python3.12/site-packages/sklearn/utils/validation.py\", line 1093, in check_array\n",
      "    raise ValueError(msg)\n",
      "ValueError: Expected 2D array, got 1D array instead:\n",
      "array=[153.  65.  53.  28. 178.].\n",
      "Reshape your data either using array.reshape(-1, 1) if your data has a single feature or array.reshape(1, -1) if it contains a single sample.\n",
      "\n",
      "Traceback (most recent call last):\n",
      "  File \"/home/lotsalan/.local/lib/python3.12/site-packages/pyrat/src/Game.py\", line 589, in start\n",
      "    raise Exception(\"A player has crashed, exiting\")\n",
      "Exception: A player has crashed, exiting\n",
      "\n"
     ]
    }
   ],
   "source": [
    "# Instantiate a game with specified arguments\n",
    "game = Game(**CONFIG)\n",
    "\n",
    "# Instantiate a player and add it to the game\n",
    "print(\"exhaustive\")\n",
    "player = Heuristique()\n",
    "print(\"add_player\")\n",
    "game.add_player(player)\n",
    "\n",
    "# Start the game and\n",
    "print(\"start\")\n",
    "stats = game.start()"
   ]
  },
  {
   "cell_type": "code",
   "execution_count": 4,
   "metadata": {},
   "outputs": [
    {
     "name": "stdout",
     "output_type": "stream",
     "text": [
      "{}\n"
     ]
    }
   ],
   "source": [
    "# Show statistics\n",
    "pprint.pprint(stats)"
   ]
  }
 ],
 "metadata": {
  "kernelspec": {
   "display_name": "Python 3",
   "language": "python",
   "name": "python3"
  },
  "language_info": {
   "codemirror_mode": {
    "name": "ipython",
    "version": 3
   },
   "file_extension": ".py",
   "mimetype": "text/x-python",
   "name": "python",
   "nbconvert_exporter": "python",
   "pygments_lexer": "ipython3",
   "version": "3.12.7"
  }
 },
 "nbformat": 4,
 "nbformat_minor": 2
}
