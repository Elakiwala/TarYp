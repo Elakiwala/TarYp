{
 "cells": [
  {
   "cell_type": "markdown",
   "metadata": {},
   "source": [
    "<h1 style=\"background-color: gray;\n",
    "           color: black;\n",
    "           padding: 20px;\n",
    "           text-align: center;\">INFO</h1>\n",
    "\n",
    "In this script, we run player `Dijkstra` in a maze, to visualize its behavior."
   ]
  },
  {
   "cell_type": "markdown",
   "metadata": {},
   "source": [
    "<h1 style=\"background-color: gray;\n",
    "           color: black;\n",
    "           padding: 20px;\n",
    "           text-align: center;\">IMPORTS</h1>"
   ]
  },
  {
   "cell_type": "code",
   "execution_count": 1,
   "metadata": {},
   "outputs": [],
   "source": [
    "# External imports\n",
    "import sys\n",
    "import os\n",
    "import pprint\n",
    "\n",
    "# Add needed directories to the path \n",
    "sys.path.append(os.path.join(\"..\", \"players\"))\n",
    "\n",
    "# PyRat imports\n",
    "from pyrat import Game\n",
    "from Dijkstra import Dijkstra"
   ]
  },
  {
   "cell_type": "code",
   "execution_count": 2,
   "metadata": {},
   "outputs": [],
   "source": [
    "# Customize the game elements\n",
    "CONFIG = {\"mud_percentage\": 25.0,\n",
    "          \"nb_cheese\": 1,\n",
    "          \"random_seed\": 42,\n",
    "          \"trace_length\": 1000}"
   ]
  },
  {
   "cell_type": "code",
   "execution_count": 3,
   "metadata": {},
   "outputs": [
    {
     "name": "stdout",
     "output_type": "stream",
     "text": [
      "Constructor\n",
      "PREPROCESS\n",
      "Debut initial_location\n",
      "Fin initial_location\n",
      "Debut cheese_location\n",
      "Fin cheese_location\n",
      "Debut traversal\n",
      "Fin traversal\n",
      "Debut find_route\n",
      "Fin find_route\n",
      "Debut actions\n",
      "Fin actions\n",
      "Preprocessing\n",
      "Turn 1\n",
      "Turn 2\n",
      "Turn 3\n",
      "Turn 4\n",
      "Turn 5\n",
      "Turn 6\n",
      "Turn 7\n",
      "Turn 12\n",
      "Turn 13\n",
      "Turn 14\n",
      "Turn 15\n",
      "Turn 23\n",
      "Postprocessing\n"
     ]
    }
   ],
   "source": [
    "# Instantiate a game with specified arguments\n",
    "game = Game(**CONFIG)\n",
    "\n",
    "# Instantiate a player and add it to the game\n",
    "player = Dijkstra()\n",
    "game.add_player(player)\n",
    "\n",
    "# Start the game and\n",
    "stats = game.start()"
   ]
  },
  {
   "cell_type": "markdown",
   "metadata": {},
   "source": [
    "We visualize results using a pretty printer."
   ]
  },
  {
   "cell_type": "code",
   "execution_count": 4,
   "metadata": {},
   "outputs": [
    {
     "name": "stdout",
     "output_type": "stream",
     "text": [
      "{'players': {'Dijkstra': {'actions': {'east': 2,\n",
      "                                      'error': 0,\n",
      "                                      'miss': 0,\n",
      "                                      'mud': 11,\n",
      "                                      'north': 0,\n",
      "                                      'nothing': 0,\n",
      "                                      'south': 4,\n",
      "                                      'wall': 0,\n",
      "                                      'west': 6},\n",
      "                          'preprocessing_duration': 0.013166790999999733,\n",
      "                          'score': 1.0,\n",
      "                          'team': '',\n",
      "                          'turn_durations': [0.00027470899999970655,\n",
      "                                             0.0001315269999997426,\n",
      "                                             0.00022395500000005342,\n",
      "                                             0.00012435500000007593,\n",
      "                                             0.0001930399999996446,\n",
      "                                             0.00012033500000008246,\n",
      "                                             0.0002869249999997159,\n",
      "                                             0.00025778399999998314,\n",
      "                                             0.00013038799999964823,\n",
      "                                             0.00025039699999984677,\n",
      "                                             0.00011778299999987141,\n",
      "                                             0.00031093299999973567]}},\n",
      " 'turns': 23}\n"
     ]
    }
   ],
   "source": [
    "# Show statistics\n",
    "pprint.pprint(stats)"
   ]
  }
 ],
 "metadata": {
  "kernelspec": {
   "display_name": "Python 3",
   "language": "python",
   "name": "python3"
  },
  "language_info": {
   "codemirror_mode": {
    "name": "ipython",
    "version": 3
   },
   "file_extension": ".py",
   "mimetype": "text/x-python",
   "name": "python",
   "nbconvert_exporter": "python",
   "pygments_lexer": "ipython3",
   "version": "3.12.7"
  }
 },
 "nbformat": 4,
 "nbformat_minor": 2
}
