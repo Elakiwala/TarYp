{
 "cells": [
  {
   "cell_type": "markdown",
   "metadata": {},
   "source": [
    "<h1 style=\"background-color: gray;\n",
    "           color: black;\n",
    "           padding: 20px;\n",
    "           text-align: center;\">INFO</h1>\n",
    "\n",
    "In this script, we run player `Dijkstra` in a maze, to visualize its behavior."
   ]
  },
  {
   "cell_type": "markdown",
   "metadata": {},
   "source": [
    "<h1 style=\"background-color: gray;\n",
    "           color: black;\n",
    "           padding: 20px;\n",
    "           text-align: center;\">IMPORTS</h1>"
   ]
  },
  {
   "cell_type": "code",
   "execution_count": 1,
   "metadata": {},
   "outputs": [],
   "source": [
    "# External imports\n",
    "import sys\n",
    "import os\n",
    "import pprint\n",
    "\n",
    "# Add needed directories to the path\n",
    "sys.path.append(os.path.join(\"..\", \"players\"))\n",
    "\n",
    "# PyRat imports\n",
    "from pyrat import Game\n",
    "from Exhaustive import Exhaustive"
   ]
  },
  {
   "cell_type": "markdown",
   "metadata": {},
   "source": [
    "<h1 style=\"background-color: gray;\n",
    "           color: black;\n",
    "           padding: 20px;\n",
    "           text-align: center;\">CONSTANTS</h1>\n",
    "\n",
    "Let's configure the game with a dictionary."
   ]
  },
  {
   "cell_type": "code",
   "execution_count": 2,
   "metadata": {},
   "outputs": [],
   "source": [
    "# Customize the game elements\n",
    "CONFIG = {\"mud_percentage\": 25,\n",
    "          \"nb_cheese\": 5,\n",
    "          \"random_seed\": 42,\n",
    "          \"trace_length\": 1000}"
   ]
  },
  {
   "cell_type": "markdown",
   "metadata": {},
   "source": [
    "<h1 style=\"background-color: gray;\n",
    "           color: black;\n",
    "           padding: 20px;\n",
    "           text-align: center;\">RUN THE GAME</h1>"
   ]
  },
  {
   "cell_type": "markdown",
   "metadata": {},
   "source": [
    "We perform a single game with the configuration defined above."
   ]
  },
  {
   "cell_type": "code",
   "execution_count": 3,
   "metadata": {},
   "outputs": [
    {
     "name": "stdout",
     "output_type": "stream",
     "text": [
      "exhaustive\n",
      "Constructor\n",
      "add_player\n",
      "start\n",
      "initial_location\n",
      "cheese_location\n",
      "graph\n",
      "ajout_sommet\n",
      "ponderation\n",
      "Constructor\n",
      "tsp Bruteforce\n",
      "tsp backtracking\n"
     ]
    },
    {
     "name": "stderr",
     "output_type": "stream",
     "text": [
      "Player Exhaustive has crashed with the following error:\n",
      "Traceback (most recent call last):\n",
      "  File \"/home/lotsalan/.local/lib/python3.12/site-packages/pyrat/src/Game.py\", line 898, in _player_process_function\n",
      "    player.preprocessing(maze, game_state)\n",
      "  File \"/home/lotsalan/Documents/GitHub/workspace/TarYp/workspace/games/../players/Exhaustive.py\", line 110, in preprocessing\n",
      "    best_path = self.best_journeys_f(initial_location, cheese_location, graphe)\n",
      "                ^^^^^^^^^^^^^^^^^^^^^^^^^^^^^^^^^^^^^^^^^^^^^^^^^^^^^^^^^^^^^^^\n",
      "  File \"/home/lotsalan/Documents/GitHub/workspace/TarYp/workspace/games/../players/Exhaustive.py\", line 237, in best_journeys_f\n",
      "    perma_rec(cheeses, [source], 0)\n",
      "  File \"/home/lotsalan/Documents/GitHub/workspace/TarYp/workspace/games/../players/Exhaustive.py\", line 230, in perma_rec\n",
      "    perma_rec(\n",
      "  File \"/home/lotsalan/Documents/GitHub/workspace/TarYp/workspace/games/../players/Exhaustive.py\", line 233, in perma_rec\n",
      "    current_length + graph[current_journey[-1]][next_vertex]\n",
      "                     ~~~~~~~~~~~~~~~~~~~~~~~~~~^^^^^^^^^^^^^\n",
      "KeyError: 65\n",
      "\n",
      "Traceback (most recent call last):\n",
      "  File \"/home/lotsalan/.local/lib/python3.12/site-packages/pyrat/src/Game.py\", line 589, in start\n",
      "    raise Exception(\"A player has crashed, exiting\")\n",
      "Exception: A player has crashed, exiting\n",
      "\n"
     ]
    }
   ],
   "source": [
    "# Instantiate a game with specified arguments\n",
    "game = Game(**CONFIG)\n",
    "\n",
    "# Instantiate a player and add it to the game\n",
    "print(\"exhaustive\")\n",
    "player = Exhaustive()\n",
    "print(\"add_player\")\n",
    "game.add_player(player)\n",
    "\n",
    "# Start the game and\n",
    "print(\"start\")\n",
    "stats = game.start()"
   ]
  },
  {
   "cell_type": "markdown",
   "metadata": {},
   "source": [
    "We visualize results using a pretty printer."
   ]
  },
  {
   "cell_type": "code",
   "execution_count": 4,
   "metadata": {},
   "outputs": [
    {
     "name": "stdout",
     "output_type": "stream",
     "text": [
      "{}\n"
     ]
    }
   ],
   "source": [
    "# Show statistics\n",
    "pprint.pprint(stats)"
   ]
  }
 ],
 "metadata": {
  "kernelspec": {
   "display_name": "Python 3",
   "language": "python",
   "name": "python3"
  },
  "language_info": {
   "codemirror_mode": {
    "name": "ipython",
    "version": 3
   },
   "file_extension": ".py",
   "mimetype": "text/x-python",
   "name": "python",
   "nbconvert_exporter": "python",
   "pygments_lexer": "ipython3",
   "version": "3.12.7"
  }
 },
 "nbformat": 4,
 "nbformat_minor": 2
}
