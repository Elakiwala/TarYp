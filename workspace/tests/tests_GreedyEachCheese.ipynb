{
 "cells": [
  {
   "cell_type": "markdown",
   "metadata": {},
   "source": [
    "<h1 style=\"background-color: gray;\n",
    "           color: black;\n",
    "           padding: 20px;\n",
    "           text-align: center;\">INFO</h1>\n",
    "\n",
    "In this script, we create a class that will structure the unit tests for the `DFS` player. \\\n",
    "We choose to use the `unittest` library. \\\n",
    "Then, we run them to ensure that all methods developed work as expected."
   ]
  },
  {
   "cell_type": "markdown",
   "metadata": {},
   "source": [
    "<h1 style=\"background-color: gray;\n",
    "           color: black;\n",
    "           padding: 20px;\n",
    "           text-align: center;\">IMPORTS</h1>"
   ]
  },
  {
   "cell_type": "code",
   "execution_count": 1,
   "metadata": {},
   "outputs": [],
   "source": [
    "# External imports\n",
    "from typing import *\n",
    "from typing_extensions import *\n",
    "from numbers import *\n",
    "import unittest\n",
    "import sys\n",
    "import os\n",
    "import random\n",
    "\n",
    "# Add needed directories to the path\n",
    "sys.path.append(os.path.join(\"..\", \"players\"))\n",
    "\n",
    "# PyRat imports\n",
    "from Greedy import Greedy\n",
    "from pyrat import BigHolesRandomMaze, Action, Graph, Game"
   ]
  },
  {
   "cell_type": "code",
   "execution_count": 2,
   "metadata": {},
   "outputs": [],
   "source": [
    "class TestGreedy(unittest.TestCase):\n",
    "    \n",
    "    def setUp(self):\n",
    "        \"\"\"\n",
    "        Ce setUp configure les objets nécessaires pour les tests.\n",
    "        \"\"\"\n",
    "        # Créer un objet d'une classe qui utilise les méthodes à tester\n",
    "        self.player = Greedy()\n",
    "        \n",
    "        # Créer un graphe réel avec des voisins et des poids\n",
    "        self.graph = {\n",
    "            0: {1: 1, 2: 2},  # Le sommet 0 est connecté à 1 avec un poids de 1 et à 2 avec un poids de 2\n",
    "            1: {2: 1},  # Le sommet 1 est connecté à 2 avec un poids de 1\n",
    "            2: {}  # Le sommet 2 n'a pas de voisins\n",
    "        }\n",
    "        \n",
    "        # Initialisation des variables de test\n",
    "        self.routing_table = {\n",
    "            0: {1: 1, 2: 2},\n",
    "            1: {2: 1},\n",
    "            2: {}\n",
    "        }\n",
    "        self.source = 0\n",
    "        self.path = [0, 1, 2]\n",
    "        \n",
    "        # Créer un état de jeu simulé pour postprocessing\n",
    "        self.game_state = {\n",
    "            'player_locations': {'player1': 0},\n",
    "            'cheese': [2],\n",
    "            'turn': 1\n",
    "        }\n",
    "        \n",
    "        # Créer un labyrinthe simulé pour postprocessing\n",
    "        self.maze = {\n",
    "            'locations_to_actions': lambda path: ['move_right', 'move_up']  # Simuler l'action\n",
    "        }\n",
    "\n",
    "    def test_find_route(self):\n",
    "        \"\"\"\n",
    "        Teste la fonction find_route pour vérifier que le chemin est correctement généré.\n",
    "        \"\"\"\n",
    "        # Appel à la méthode find_route\n",
    "        result = self.player.find_route(self.routing_table, self.source, self.path)\n",
    "\n",
    "        # Le chemin attendu : de 0 à 1, puis de 1 à 2\n",
    "        expected_route = [0, 1, 2]\n",
    "\n",
    "        # Vérification de l'égalité entre le résultat et le chemin attendu\n",
    "        self.assertEqual(result, expected_route)"
   ]
  },
  {
   "cell_type": "code",
   "execution_count": 3,
   "metadata": {},
   "outputs": [
    {
     "name": "stderr",
     "output_type": "stream",
     "text": [
      "test_find_route (__main__.TestGreedy.test_find_route)\n",
      "Teste la fonction find_route pour vérifier que le chemin est correctement généré. ... "
     ]
    },
    {
     "name": "stdout",
     "output_type": "stream",
     "text": [
      "Constructor\n",
      "Constructor\n"
     ]
    }
   ],
   "source": [
    "# Run all tests\n",
    "_ = unittest.main(argv=[\"\"], verbosity=2, exit=False)"
   ]
  }
 ],
 "metadata": {
  "kernelspec": {
   "display_name": "Python 3",
   "language": "python",
   "name": "python3"
  },
  "language_info": {
   "codemirror_mode": {
    "name": "ipython",
    "version": 3
   },
   "file_extension": ".py",
   "mimetype": "text/x-python",
   "name": "python",
   "nbconvert_exporter": "python",
   "pygments_lexer": "ipython3",
   "version": "3.12.7"
  }
 },
 "nbformat": 4,
 "nbformat_minor": 2
}
